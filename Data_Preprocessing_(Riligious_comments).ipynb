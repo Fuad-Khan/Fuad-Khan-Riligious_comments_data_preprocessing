{
  "nbformat": 4,
  "nbformat_minor": 0,
  "metadata": {
    "colab": {
      "provenance": [],
      "mount_file_id": "1I-8JVi-immwQl23bw8qPdeEPkCpWqS9E",
      "authorship_tag": "ABX9TyNAcsjF9gV5mdP5CCXu1d+n",
      "include_colab_link": true
    },
    "kernelspec": {
      "name": "python3",
      "display_name": "Python 3"
    },
    "language_info": {
      "name": "python"
    }
  },
  "cells": [
    {
      "cell_type": "markdown",
      "metadata": {
        "id": "view-in-github",
        "colab_type": "text"
      },
      "source": [
        "<a href=\"https://colab.research.google.com/github/Fuad-Khan/Fuad-Khan-Riligious_comments_data_preprocessing/blob/main/Data_Preprocessing_(Riligious_comments).ipynb\" target=\"_parent\"><img src=\"https://colab.research.google.com/assets/colab-badge.svg\" alt=\"Open In Colab\"/></a>"
      ]
    },
    {
      "cell_type": "code",
      "execution_count": 1,
      "metadata": {
        "colab": {
          "base_uri": "https://localhost:8080/"
        },
        "id": "xksKYmKIra_6",
        "outputId": "847bf7e3-1918-4e00-e48f-6b94d0bb32ee"
      },
      "outputs": [
        {
          "output_type": "stream",
          "name": "stdout",
          "text": [
            "Labeled data saved as: /content/drive/MyDrive/Research Paper/Data Preprocessing/Labeled_Religious_Comments_Bangla_Extended_2.0.csv\n"
          ]
        }
      ],
      "source": [
        "import pandas as pd\n",
        "\n",
        "# Load the Excel file\n",
        "# Load the Excel file\n",
        "file_path = \"/content/Cleaned_Labeled_Religious_Comments_Numeric_2.0 (1).xlsx\"\n",
        "df = pd.read_excel(file_path)\n",
        "\n",
        "# Define function with expanded Bangla religious and harassment keywords\n",
        "def label_comment(comment):\n",
        "    text = str(comment).lower()\n",
        "\n",
        "    religious_keywords = [\n",
        "    # Islamic Keywords\n",
        "    'আল্লাহ', 'আহাল্লার', 'আল্লা', 'মোহাম্মদ', 'ইসলাম', 'ধর্ম', 'রোজা', 'হজ', 'কোরআন', 'নামাজ', 'মসজিদ', 'দোয়া', 'ফজর',\n",
        "    'জুম্মা', 'ঈদ', 'ইমান', 'মুসলমান', 'আযান', 'ইমাম', 'মাদ্রাসা', 'সালাত', 'যাকাত', 'সাওম', 'শাহাদাহ',\n",
        "    'আখিরাত', 'জান্নাত', 'জাহান্নাম', 'ফাতেহা', 'সূরা', 'আয়াত', 'হাদিস', 'সুন্নাহ', 'তাওহিদ', 'শিরক',\n",
        "    'মিলাদ', 'বিসমিল্লাহ', 'ইনশাআল্লাহ', 'মাশাআল্লাহ', 'আস্তাগফিরুল্লাহ', 'সুবহানাল্লাহ', 'আমিন',\n",
        "    'রমজান', 'কিবলা', 'তাকবীর', 'তাহাজ্জুদ', 'ওযু', 'গোসল', 'খতম', 'দরুদ', 'কিয়ামত', 'মিকাত',\n",
        "    'মুআজ্জিন', 'নফল', 'কাফের', 'মুনাফিক', 'তাওবা', 'জিজিয়া', 'খুতবা', 'ইকামত', \"নাস্তিক\",\n",
        "    'নবী', 'নোবী', 'নোবীর', 'মোল্লা', 'মোল্লার', 'মহাম্মদ', 'মুহাম্মদ', 'মাদ্রসা', 'মাদরাসা', 'ইজরাইল',\n",
        "    \"জিবরাইল\", \"জিব্রাইল\", \"আজরাইল\", \"মিকাইল\", \"ইসরাফিল\",\n",
        "    \"মুহাম্মদ\", \"ইব্রাহিম\", \"মূসা\", \"ঈসা\", \"নুহ\", \"ইউনুস\",\n",
        "    \"দাউদ\", \"সুলাইমান\", \"আইউব\", \"হারুন\", \"ইলিয়াস\", \"লুত\",\n",
        "    \"উম্মাহ\", \"উম্মত\", \"হিজাব\", \"বুরকা\", \"তসবিহ\",\n",
        "\n",
        "    # Hindu Keywords\n",
        "    'হিন্দু', 'রাম', 'শিব', 'কৃষ্ণ', 'পূজা', 'উপাসনা', 'গীতা', 'ভগবান', 'তীর্থ', 'আত্মা', 'দুর্গা',\n",
        "    'কালী', 'লক্ষ্মী', 'সরস্বতী', 'হনুমান', 'গণেশ', 'যজ্ঞ', 'মন্ত্র', 'প্রার্থনা', 'অর্চনা', 'দেবতা',\n",
        "    'অসুর', 'ব্রহ্মা', 'বিষ্ণু', 'মহাদেব', 'অভিষেক', 'পূজারী', 'প্রসাদ', 'মন্দির', 'জপ', 'অগ্নি',\n",
        "    'অহিংসা', 'অবতার', 'আরতি', 'ঐশ্বর্য', 'কৈলাশ', 'চণ্ডী', 'জয়ন্তী', 'তিলক', 'দীক্ষা', 'ধুনুচি',\n",
        "    'নবরাত্রি', 'পঞ্চদেবতা', 'ব্রত', 'মহিষাসুর', 'যোগিনী', 'শক্তি', 'মালায়ুন', 'মালায়ন', 'ঠাকুর',\n",
        "    \"ব্রহ্মা\", \"বিষ্ণু\", \"মহেশ\", \"ইন্দ্র\", \"অগ্নি\", \"বরুণ\",\n",
        "    \"কুবের\", \"যম\", \"হনুমান\", \"রাম\", \"লক্ষ্মণ\", \"কৃষ্ণ\", \"বালরাম\",\n",
        "    \"ভগবান\", \"ভগবতী\", \"দুর্গা\", \"কালি\", \"সরস্বতী\", \"লক্ষ্মী\", \"পার্থ\",\n",
        "    \"সীতা\", \"রাধা\", \"শক্তি\", \"গণেশ\", \"কার্তিক\", \"নারায়ণ\", \"রামচন্দ্র\",\n",
        "    \"ভগবান\", \"অবতার\", \"অবতারপুরুষ\", \"গোবিন্দ\", \"নন্দলাল\", \"নরসিংহ\",\n",
        "    \"ত্রিলোকনাথ\", \"জগন্নাথ\", \"দেবতা\", \"দেবী\", 'দেবি', 'পুজো',\n",
        "\n",
        "    # Christian Keywords\n",
        "    'যীশু', 'খ্রিস্টান', 'বাইবেল', 'গির্জা', 'পাদ্রি', 'ক্রুশ', 'প্রভু', 'পাপ', 'স্বর্গরাজ্য',\n",
        "    'প্রেরিত', 'জন্মদিন', 'ইস্টার', 'খ্রীষ্ট', 'পবিত্র আত্মা', 'ধর্মপ্রচারক', 'যাজক', 'অনুতাপ', 'দানিয়েল',\n",
        "    'দশ আজ্ঞা', 'নূহ', 'যোহন', 'প্রলয়', 'যিশাইয়', 'গসপেল', 'খ্রিস্টমাস', \"ঈসা\", \"যিশু\", \"যীশু\", \"মেরি\", \"পিতাপবিত্র\", \"গড\", \"ক্রিস্ট\", \"খ্রিস্ট\", \"ম্যাথিউ\",\n",
        "    \"লুক\", \"পল\", \"মোজেস\", \"ডেভিড\", \"সামুয়েল\", \"ক্রস\", \"বাইবেল\", \"ঈশ্বর\",\n",
        "\n",
        "    # Buddhist Keywords\n",
        "    'বুদ্ধ', 'বৌদ্ধ', 'কর্ম', 'নির্বাণ', 'পালি', 'সূত্র', 'ভিক্ষু', 'ধ্যান', 'অষ্টাঙ্গিক মার্গ', 'দুঃখ',\n",
        "    'ত্রিপিটক', 'শীল', 'প্রজ্ঞা', 'কারুণ্য', 'বোধি', 'সংঘ', 'তান্ত্রিক', 'মৈত্রী', 'চক্র', 'জেন',\n",
        "    'লামা', 'মনীষা', 'শূন্যতা', 'স্তূপ', 'ধর্মচক্র', \"গৌতম বুদ্ধ\", \"বুদ্ধ\", \"শাক্যমুনি\", \"অমিতাভ\", \"অভলোকিতেশ্বর\", \"মৈত্রেয়\", \"ধর্ম\", \"সংঘ\",\n",
        "\n",
        "    # General Spiritual/Religious\n",
        "    'ঈশ্বর', 'নরক', 'স্বর্গ', 'পবিত্র', 'ধার্মিক', 'অধর্ম', 'অলৌকিক', 'অধ্যাত্ম', 'আশীর্বাদ', 'অভিশাপ',\n",
        "    'মৃত্যুঞ্জয়', 'তীর্থযাত্রা', 'পুণ্য', 'অদৃশ্য', 'আত্মসমর্পণ', 'জাগরণ', 'মহিমা', 'মোল্লা', 'গো মুত্র', '৭৮৬' 'নুনু',\n",
        "    'সৃষ্টিকর্তা', 'পশুহত্যা', 'জঙ্গি', 'মুনাফেক', 'সইতান', 'উট'\n",
        "    ]\n",
        "\n",
        "    harassment_keywords = [\n",
        "    # Personal attacks\n",
        "    'শুয়োর', 'কুকুর', 'গাধা', 'জানোয়ার', 'পশু', 'গরু', 'ছাগল', 'পাঁঠা', 'গাধার', 'খানকি',\n",
        "    'খানকির ছেলে', 'হারামি', 'হারামজাদা', 'জারজ', 'ব্যভিচারী', 'বেইমান', 'কামচোর', 'চোদা',\n",
        "    'চুদা', \"চুদি\", 'চুদেছিল', 'চুদেছি', 'খানকির পোলা', 'ধোন', 'বাল', 'লান্ড', 'ভোঁদা', 'পোদ', 'পোঁদ', 'গুদ', 'হোগা', 'চুত', 'মাগি', 'মাগির',\n",
        "    'বেশ্যা', 'রেন্ডি', 'দালাল', 'হিজড়া', 'নপুংসক', 'হিজড়া', 'কুত্তা', 'কুত্তাচোদা', 'শালা', 'ধনের', 'ধন', 'মাদারচোদ', 'বিচিকে',\n",
        "\n",
        "    # Religious/caste slurs\n",
        "    'ম্লেচ্ছ', 'যবন', 'কাফের', 'নাস্তিক', 'ধর্মহীন', 'অধার্মিক', 'অবিশ্বাসী', 'মুশরিক', 'নীচ',\n",
        "    'নিচু', 'অচ্ছুত', 'চণ্ডাল', 'ডোম', 'হরিজন', 'মালাউন', 'মালুন', 'কাঙ্গাল',\n",
        "\n",
        "    # Verbal abuse/actions\n",
        "    'মারব', 'মেরে', 'খুন', 'কাটব', 'কেটে', 'জবাই', 'ধর্ষণ', 'গালিগালাজ',\n",
        "    'অপমান', 'অবমাননা', 'অশ্লীল', 'নোংরা', 'ঘৃণা', 'বিদ্বেষ', 'শত্রু', 'দুশমন', 'মিথ্যাবাদী',\n",
        "    'প্রবঞ্চক', 'ধোকাবাজ', 'বোকা', 'মূর্খ', 'অশিক্ষিত', 'গণ্ডমূর্খ', 'জাহিল', 'নষ্ট', 'ভণ্ড',\n",
        "    'পাষণ্ড', 'পিশাচ', 'নরপিশাচ', 'অসভ্য', 'বর্বর', 'জংলী', 'পাগল', 'উন্মাদ', 'বিকৃত',\n",
        "    'কুৎসিত', 'জঘন্য', 'ঘৃণিত', 'চোর', 'ডাকাত', 'লম্পট', 'বদমাশ', 'শয়তান', 'ইবলিশ', 'কুফরি',\n",
        "\n",
        "    # Religion-specific abuse\n",
        "    'অবিশ্বাসী', 'ধর্মবিদ্বেষী', 'অমুসলিম', 'ধর্মান্ধ', 'ধর্ম নিয়ে বাজে কথা', 'ধর্মীয় উগ্রতা',\n",
        "    'অশ্রদ্ধা', 'জীবজন্তু', 'তোরা', 'জাহান্নামে যাবি', 'জাহান্নামে চলে যা', 'তুই মুসলমান না',\n",
        "    'তুই হিন্দু না', 'ধর্ম নষ্ট', 'ধর্ম নিয়ে ঠাট্টা', 'ধর্মের শত্রু', 'ধর্ম ত্যাগী', 'নরাধম',\n",
        "    'পতিত', 'অপবিত্র', 'গোমাংস খাও', 'গো-মূত্র পান কর', 'মন্দির ভাঙ', 'মসজিদ ভাঙ',\n",
        "    'ধর্মের অপমান', 'ধর্মের অবমাননা', 'ধর্মের বিরুদ্ধে', 'ধর্মের অপব্যবহার',\n",
        "    'ধর্ম গালি', 'ধর্মের বিরুদ্ধে কথা', 'ধর্মের মজা কর', 'ধর্ম নিয়ে বিদ্রূপ',\n",
        "    'ধর্মের নামে অপপ্রচার', 'ধর্ম নিয়ে মজা', 'ধর্ম নিয়ে খেলা', 'ধর্মের শাস্তি দিব',\n",
        "    'জিহাদ করব', 'ধর্মযুদ্ধ করব', 'ধর্মের নামে মারব', 'ধর্মের দোহাই দিয়ে মার',\n",
        "    'মুসলমানের শত্রু', 'হিন্দুর শত্রু', 'বৌদ্ধের শত্রু', 'খ্রিস্টানের শত্রু',\n",
        "    'মুসলমান নষ্ট', 'হিন্দু নষ্ট', 'বৌদ্ধ নষ্ট', 'খ্রিস্টান নষ্ট', 'জঙ্গি', 'ওইটা চুষা',\n",
        "    ' বিচিতে', ' বিচি', 'বিচিতে', 'নবিচোদা', 'কেলাবার', 'তোর আল্লাহ', 'তোর আল্লা', ' শুকর',\n",
        "    'বেহেনচোদ', 'বেঈমান', 'মীরজাফর', 'পশুহত্যা', 'মা বোন', 'সইতান', 'গলা কেটে',\n",
        "    'বকচুদ', 'নুংকু', 'গোমূত্র', 'শালা', 'মূত্র', 'মুত', 'চাড্ডী'\n",
        "    ]\n",
        "\n",
        "    contains_religious = any(word in text for word in religious_keywords)\n",
        "    contains_harassment = any(word in text for word in harassment_keywords)\n",
        "\n",
        "    if contains_harassment and contains_religious:\n",
        "        return \"Religious Harassment\"\n",
        "    elif contains_religious:\n",
        "        return \"Religious\"\n",
        "    elif contains_harassment:\n",
        "        return \"Not Religious\"  # harassment but not religious\n",
        "    else:\n",
        "        return \"Not Religious\"\n",
        "\n",
        "# Apply labeling\n",
        "df['label'] = df['comment'].apply(label_comment)\n",
        "\n",
        "# Save to CSV\n",
        "output_file_path = \"/content/drive/MyDrive/Research Paper/Data Preprocessing/Labeled_Religious_Comments_Bangla_Extended_2.0.csv\"\n",
        "df.to_csv(output_file_path, index=False, encoding='utf-8-sig')\n",
        "\n",
        "print(\"Labeled data saved as:\", output_file_path)\n"
      ]
    },
    {
      "cell_type": "code",
      "source": [
        "import pandas as pd\n",
        "import re\n",
        "\n",
        "# 📥 Load the labeled CSV from Google Drive\n",
        "file_path = \"/content/drive/MyDrive/Research Paper/Data Preprocessing/Labeled_Religious_Comments_Bangla_Extended_2.0.csv\"\n",
        "df = pd.read_csv(file_path)\n",
        "\n",
        "# 🧹 Remove URLs\n",
        "def remove_urls(text):\n",
        "    return re.sub(r'https?://\\S+|www\\.\\S+', '', str(text))\n",
        "\n",
        "df['comment'] = df['comment'].apply(remove_urls)\n",
        "\n",
        "# 🔧 Remove non-Bangla characters (only keep Bangla letters and spaces)\n",
        "def clean_special_chars(text):\n",
        "    return re.sub(r'[^\\u0980-\\u09FF\\s]', '', str(text))\n",
        "\n",
        "df['comment'] = df['comment'].apply(clean_special_chars)\n",
        "\n",
        "# 🧽 Remove empty or NaN comments\n",
        "df['comment'] = df['comment'].str.strip()\n",
        "df = df[df['comment'].notna() & (df['comment'] != \"\")]\n",
        "\n",
        "# 🔢 Map string labels to numeric values\n",
        "label_map = {\n",
        "    \"Not Religious\": 0,\n",
        "    \"Religious\": 1,\n",
        "    \"Religious Harassment\": 2\n",
        "}\n",
        "df['label_numeric'] = df['label'].map(label_map)\n",
        "\n",
        "# 🧾 Optional: check label distribution\n",
        "print(\"📊 Label Distribution:\\n\", df['label_numeric'].value_counts())\n",
        "\n",
        "# 💾 Save cleaned + labeled data\n",
        "output_cleaned_path = \"/content/drive/MyDrive/Research Paper/Data Preprocessing/Cleaned_Labeled_Religious_Comments_Numeric_2.0.csv\"\n",
        "df.to_csv(output_cleaned_path, index=False, encoding='utf-8-sig')\n",
        "\n",
        "print(\"✅ Cleaned CSV with numeric labels saved at:\", output_cleaned_path)\n"
      ],
      "metadata": {
        "colab": {
          "base_uri": "https://localhost:8080/"
        },
        "id": "HS2TeSxfvzmP",
        "outputId": "47abfa4e-2770-4b88-d176-21af29c830b6"
      },
      "execution_count": 2,
      "outputs": [
        {
          "output_type": "stream",
          "name": "stdout",
          "text": [
            "📊 Label Distribution:\n",
            " label_numeric\n",
            "0    12852\n",
            "2     7505\n",
            "1     5539\n",
            "Name: count, dtype: int64\n",
            "✅ Cleaned CSV with numeric labels saved at: /content/drive/MyDrive/Research Paper/Data Preprocessing/Cleaned_Labeled_Religious_Comments_Numeric_2.0.csv\n"
          ]
        }
      ]
    },
    {
      "cell_type": "markdown",
      "source": [
        "# ✅ Full TF-IDF Vectorization Code (after cleaning):"
      ],
      "metadata": {
        "id": "trVY3pq4xbQh"
      }
    },
    {
      "cell_type": "code",
      "source": [
        "import pandas as pd\n",
        "import re\n",
        "from sklearn.feature_extraction.text import TfidfVectorizer\n",
        "\n",
        "# 📥 Load the cleaned CSV\n",
        "file_path = \"/content/drive/MyDrive/Research Paper/Data Preprocessing/Cleaned_Labeled_Religious_Comments_Numeric_2.0.csv\"\n",
        "df = pd.read_csv(file_path)\n",
        "\n",
        "# 🧹 Ensure text is clean again if needed (URL & special char removal)\n",
        "def remove_urls(text):\n",
        "    return re.sub(r'https?://\\S+|www\\.\\S+', '', str(text))\n",
        "\n",
        "def clean_special_chars(text):\n",
        "    return re.sub(r'[^\\u0980-\\u09FF\\s]', '', str(text))\n",
        "\n",
        "df['comment'] = df['comment'].apply(lambda x: clean_special_chars(remove_urls(str(x))).strip())\n",
        "\n",
        "# 🧠 TF-IDF Vectorization\n",
        "vectorizer = TfidfVectorizer(max_features=1000)  # You can increase or decrease features\n",
        "X_tfidf = vectorizer.fit_transform(df['comment'])\n",
        "\n",
        "# 🏷 Target labels\n",
        "y = df['label_binary']\n",
        "\n",
        "# 💾 Save TF-IDF as a CSV if needed\n",
        "tfidf_df = pd.DataFrame(X_tfidf.toarray(), columns=vectorizer.get_feature_names_out())\n",
        "tfidf_df['label'] = y.values\n",
        "\n",
        "# Save TF-IDF features\n",
        "tfidf_df.to_csv(\"TFIDF_Features_Bangla.csv\", index=False, encoding='utf-8-sig')\n",
        "print(\"✅ TF-IDF features saved as: TFIDF_Features_Bangla.csv\")\n"
      ],
      "metadata": {
        "id": "MFBTVn85xeZQ"
      },
      "execution_count": null,
      "outputs": []
    }
  ]
}