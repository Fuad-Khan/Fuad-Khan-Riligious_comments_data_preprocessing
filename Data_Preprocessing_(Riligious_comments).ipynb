{
  "nbformat": 4,
  "nbformat_minor": 0,
  "metadata": {
    "colab": {
      "provenance": [],
      "authorship_tag": "ABX9TyM4LZjGuIjBpM0qLVYabpuo",
      "include_colab_link": true
    },
    "kernelspec": {
      "name": "python3",
      "display_name": "Python 3"
    },
    "language_info": {
      "name": "python"
    }
  },
  "cells": [
    {
      "cell_type": "markdown",
      "metadata": {
        "id": "view-in-github",
        "colab_type": "text"
      },
      "source": [
        "<a href=\"https://colab.research.google.com/github/Fuad-Khan/Fuad-Khan-Riligious_comments_data_preprocessing/blob/main/Data_Preprocessing_(Riligious_comments).ipynb\" target=\"_parent\"><img src=\"https://colab.research.google.com/assets/colab-badge.svg\" alt=\"Open In Colab\"/></a>"
      ]
    },
    {
      "cell_type": "code",
      "execution_count": null,
      "metadata": {
        "colab": {
          "base_uri": "https://localhost:8080/"
        },
        "id": "xksKYmKIra_6",
        "outputId": "07a33a4f-a15b-474d-b8d3-761e1ab9c4ec"
      },
      "outputs": [
        {
          "output_type": "stream",
          "name": "stdout",
          "text": [
            "Labeled data saved as: Labeled_Religious_Comments_Bangla_Extended.csv\n"
          ]
        }
      ],
      "source": [
        "import pandas as pd\n",
        "\n",
        "# Load the Excel file\n",
        "file_path = \"Riligious_comments.xlsx\"\n",
        "df = pd.read_excel(file_path)\n",
        "\n",
        "# Define function with expanded Bangla religious and harassment keywords\n",
        "def label_comment(comment):\n",
        "    text = str(comment).lower()\n",
        "\n",
        "    religious_keywords = [\n",
        "        # Islamic Keywords\n",
        "        'আল্লাহ', 'মোহাম্মদ', 'ইসলাম', 'ধর্ম', 'রোজা', 'হজ', 'কোরআন', 'নামাজ',\n",
        "        'মসজিদ', 'দোয়া', 'ফজর', 'জুম্মা', 'ঈদ', 'ইমান', 'মুসলমান', 'আযান', 'ইমাম', 'মাদ্রাসা',\n",
        "        'সালাত', 'যাকাত', 'সাওম', 'শাহাদাহ', 'আখিরাত', 'জান্নাত', 'জাহান্নাম', 'ফাতেহা',\n",
        "        'সূরা', 'আয়াত', 'হাদিস', 'সুন্নাহ', 'তাওহিদ', 'শিরক', 'মিলাদ', 'বিসমিল্লাহ',\n",
        "        'ইনশাআল্লাহ', 'মাশাআল্লাহ', 'আস্তাগফিরুল্লাহ', 'সুবহানাল্লাহ', 'আমিন', 'রমজান',\n",
        "        'কিবলা', 'তাকবীর', 'তাহাজ্জুদ', 'ওযু', 'গোসল', 'খতম', 'দরুদ', 'কিয়ামত', 'মিকাত',\n",
        "        'মুআজ্জিন', 'নফল', 'কাফির', 'মুনাফিক', 'তাওবা', 'জিজিয়া', 'খুতবা', 'ইকামত',\n",
        "\n",
        "        # Hindu Keywords\n",
        "        'হিন্দু', 'রাম', 'শিব', 'কৃষ্ণ', 'পূজা', 'উপাসনা', 'গীতা', 'ভগবান', 'তীর্থ', 'আত্মা',\n",
        "        'দুর্গা', 'কালী', 'লক্ষ্মী', 'সরস্বতী', 'হনুমান', 'গণেশ', 'যজ্ঞ', 'মন্ত্র', 'প্রার্থনা',\n",
        "        'অর্চনা', 'দেবতা', 'অসুর', 'ব্রহ্মা', 'বিষ্ণু', 'মহাদেব', 'অভিষেক', 'পূজারী', 'প্রসাদ',\n",
        "        'মন্দির', 'জপ', 'অগ্নি', 'অহিংসা', 'অবতার', 'আরতি', 'ঐশ্বর্য', 'কৈলাশ', 'চণ্ডী', 'জয়ন্তী',\n",
        "        'তিলক', 'দীক্ষা', 'ধুনুচি', 'নবরাত্রি', 'পঞ্চদেবতা', 'ব্রত', 'মহিষাসুর', 'যোগিনী', 'শক্তি',\n",
        "\n",
        "        # Christian Keywords\n",
        "        'যীশু', 'খ্রিস্টান', 'বাইবেল', 'গির্জা', 'প্রার্থনা', 'পাদ্রি', 'ক্রুশ', 'প্রভু', 'পাপ', 'মুক্তি',\n",
        "        'স্বর্গরাজ্য', 'প্রেরিত', 'জন্মদিন', 'ইস্টার', 'খ্রীষ্ট', 'পবিত্র আত্মা', 'ধর্মপ্রচারক', 'যাজক',\n",
        "        'অনুতাপ', 'দানিয়েল', 'দশ আজ্ঞা', 'নূহ', 'যোহন', 'প্রলয়', 'যিশাইয়', 'গসপেল', 'খ্রিস্টমাস',\n",
        "\n",
        "        # Buddhist Keywords\n",
        "        'বুদ্ধ', 'বৌদ্ধ', 'ধর্ম', 'কর্ম', 'নির্বাণ', 'পালি', 'সূত্র', 'মন্দির', 'ভিক্ষু', 'ধ্যান',\n",
        "        'অষ্টাঙ্গিক মার্গ', 'দুঃখ', 'ত্রিপিটক', 'শীল', 'প্রজ্ঞা', 'কারুণ্য', 'বোধি', 'সংঘ', 'তান্ত্রিক',\n",
        "        'মৈত্রী', 'অহিংসা', 'চক্র', 'জেন', 'লামা', 'মনীষা', 'শূন্যতা', 'স্তূপ', 'ধর্মচক্র',\n",
        "\n",
        "        # General Spiritual/Religious Keywords\n",
        "        'ঈশ্বর', 'নরক', 'স্বর্গ', 'পবিত্র', 'ধার্মিক', 'অধর্ম', 'ধ্যান', 'যোগ', 'তপস্যা',\n",
        "        'সাধু', 'গুরু', 'মোক্ষ', 'কর্ম', 'ধর্মগ্রন্থ', 'অলৌকিক', 'অধ্যাত্ম', 'প্রার্থনা', 'আশীর্বাদ',\n",
        "        'অভিশাপ', 'মৃত্যুঞ্জয়', 'তীর্থযাত্রা', 'পুণ্য', 'অদৃশ্য', 'আত্মসমর্পণ', 'জাগরণ', 'মহিমা'\n",
        "    ]\n",
        "\n",
        "    harassment_keywords = [\n",
        "        'পাগল', 'অসুস্থ', 'জাহান্নাম', 'অবিশ্বাসী', 'ধর্মবিদ্বেষী', 'কাফের', 'নাস্তিক',\n",
        "        'মুনাফিক', 'অমুসলিম', 'ধর্মান্ধ', 'ধর্ম নিয়ে বাজে কথা', 'ধর্মীয় উগ্রতা',\n",
        "        'অবমাননা', 'গালিগালাজ', 'ঘৃণা', 'অশ্রদ্ধা', 'জীবজন্তু', 'তোরা', 'হারামি',\n",
        "        'নরপিশাচ', 'নষ্ট', 'শুয়োর', 'খানকি', 'কুকুর', 'জাহান্নামে যাবি', 'জাহান্নামে চলে যা',\n",
        "        'তুই মুসলমান না', 'তুই হিন্দু না', 'ধর্ম নষ্ট', 'ধর্ম নিয়ে ঠাট্টা', 'ধর্মের শত্রু',\n",
        "        'ধর্ম ত্যাগী', 'নরাধম', 'পাষণ্ড', 'ধর্মহীন', 'অধার্মিক', 'পতিত', 'অপবিত্র',\n",
        "        'গোমাংস খাও', 'গো-মূত্র পান কর', 'মন্দির ভাঙ', 'মসজিদ ভাঙ', 'ধর্মের অপমান',\n",
        "        'ধর্মের অবমাননা', 'ধর্মের বিরুদ্ধে', 'ধর্মের শত্রু', 'ধর্মের দুশমন', 'ধর্মের অপব্যবহার',\n",
        "        'নীচ জাত', 'অচ্ছুত', 'ম্লেচ্ছ', 'যবন', 'চণ্ডাল', 'ডোম', 'হরিজন',\n",
        "        'হারামজাদা', 'হারামের বাচ্চা', 'ব্যভিচারী', 'যিনাকারী', 'অসতী', 'পতিতা',\n",
        "        'ধর্ম গালি', 'ধর্মের বিরুদ্ধে কথা', 'ধর্মের মজা কর', 'ধর্ম নিয়ে বিদ্রূপ',\n",
        "        'ধর্মের নামে অপপ্রচার', 'ধর্ম নিয়ে মজা', 'ধর্ম নিয়ে খেলা',\n",
        "        'ধর্মের শাস্তি দিব', 'জিহাদ করব', 'ধর্মযুদ্ধ করব', 'ধর্মের নামে মারব',\n",
        "        'ধর্মের শত্রু মেরে ফেল', 'ধর্মের দোহাই দিয়ে মার',\n",
        "        'মুসলমানের শত্রু', 'হিন্দুর শত্রু', 'বৌদ্ধের শত্রু', 'খ্রিস্টানের শত্রু',\n",
        "        'মুসলমান নষ্ট', 'হিন্দু নষ্ট', 'বৌদ্ধ নষ্ট', 'খ্রিস্টান নষ্ট'\n",
        "    ]\n",
        "\n",
        "    if any(word in text for word in harassment_keywords):\n",
        "        return \"Religious Harassment\"\n",
        "    elif any(word in text for word in religious_keywords):\n",
        "        return \"Religious\"\n",
        "    else:\n",
        "        return \"Not Religious\"\n",
        "\n",
        "# Apply labeling\n",
        "df['label'] = df['comment'].apply(label_comment)\n",
        "\n",
        "# Save to CSV\n",
        "output_file_path = \"Labeled_Religious_Comments_Bangla_Extended.csv\"\n",
        "df.to_csv(output_file_path, index=False, encoding='utf-8-sig')\n",
        "\n",
        "print(\"Labeled data saved as:\", output_file_path)\n"
      ]
    },
    {
      "cell_type": "code",
      "source": [
        "import pandas as pd\n",
        "import re\n",
        "\n",
        "# 📥 Load the labeled CSV\n",
        "file_path = \"Labeled_Religious_Comments_Bangla_Extended.csv\"\n",
        "df = pd.read_csv(file_path)\n",
        "\n",
        "# 🔍 Peek at column names (optional debug)\n",
        "print(\"📌 Columns:\", df.columns)\n",
        "\n",
        "# 🧹 Remove URLs\n",
        "def remove_urls(text):\n",
        "    return re.sub(r'https?://\\S+|www\\.\\S+', '', str(text))\n",
        "\n",
        "df['comment'] = df['comment'].apply(remove_urls)\n",
        "\n",
        "# 🔧 Remove non-Bengali special characters (keeping only Bangla script and whitespace)\n",
        "def clean_special_chars(text):\n",
        "    return re.sub(r'[^\\u0980-\\u09FF\\s]', '', str(text))\n",
        "\n",
        "df['comment'] = df['comment'].apply(clean_special_chars)\n",
        "\n",
        "# 🔄 Map label to binary (1 for \"Religious Harassment\", 0 for others)\n",
        "df['label_binary'] = df['label'].apply(lambda x: 1 if x == \"Religious Harassment\" else 0)\n",
        "\n",
        "# 🧽 Drop rows with empty or NaN comments\n",
        "df['comment'] = df['comment'].str.strip()\n",
        "df = df[df['comment'].notna() & (df['comment'] != \"\")]\n",
        "\n",
        "# 💾 Save the cleaned CSV\n",
        "output_cleaned_path = \"Cleaned_Labeled_Religious_Comments.csv\"\n",
        "df.to_csv(output_cleaned_path, index=False, encoding='utf-8-sig')\n",
        "\n",
        "print(\"✅ Cleaned data saved as:\", output_cleaned_path)\n"
      ],
      "metadata": {
        "colab": {
          "base_uri": "https://localhost:8080/"
        },
        "id": "HS2TeSxfvzmP",
        "outputId": "93dda1fa-86d9-45cd-cc49-1598a74c92f7"
      },
      "execution_count": null,
      "outputs": [
        {
          "output_type": "stream",
          "name": "stdout",
          "text": [
            "📌 Columns: Index(['comment', 'label'], dtype='object')\n",
            "✅ Cleaned data saved as: Cleaned_Labeled_Religious_Comments.csv\n"
          ]
        }
      ]
    },
    {
      "cell_type": "markdown",
      "source": [
        "# ✅ Full TF-IDF Vectorization Code (after cleaning):"
      ],
      "metadata": {
        "id": "trVY3pq4xbQh"
      }
    },
    {
      "cell_type": "code",
      "source": [
        "import pandas as pd\n",
        "import re\n",
        "from sklearn.feature_extraction.text import TfidfVectorizer\n",
        "\n",
        "# 📥 Load the cleaned CSV\n",
        "file_path = \"Cleaned_Labeled_Religious_Comments.csv\"\n",
        "df = pd.read_csv(file_path)\n",
        "\n",
        "# 🧹 Ensure text is clean again if needed (URL & special char removal)\n",
        "def remove_urls(text):\n",
        "    return re.sub(r'https?://\\S+|www\\.\\S+', '', str(text))\n",
        "\n",
        "def clean_special_chars(text):\n",
        "    return re.sub(r'[^\\u0980-\\u09FF\\s]', '', str(text))\n",
        "\n",
        "df['comment'] = df['comment'].apply(lambda x: clean_special_chars(remove_urls(str(x))).strip())\n",
        "\n",
        "# 🧠 TF-IDF Vectorization\n",
        "vectorizer = TfidfVectorizer(max_features=1000)  # You can increase or decrease features\n",
        "X_tfidf = vectorizer.fit_transform(df['comment'])\n",
        "\n",
        "# 🏷 Target labels\n",
        "y = df['label_binary']\n",
        "\n",
        "# 💾 Save TF-IDF as a CSV if needed\n",
        "tfidf_df = pd.DataFrame(X_tfidf.toarray(), columns=vectorizer.get_feature_names_out())\n",
        "tfidf_df['label'] = y.values\n",
        "\n",
        "# Save TF-IDF features\n",
        "tfidf_df.to_csv(\"TFIDF_Features_Bangla.csv\", index=False, encoding='utf-8-sig')\n",
        "print(\"✅ TF-IDF features saved as: TFIDF_Features_Bangla.csv\")\n"
      ],
      "metadata": {
        "id": "MFBTVn85xeZQ"
      },
      "execution_count": null,
      "outputs": []
    }
  ]
}